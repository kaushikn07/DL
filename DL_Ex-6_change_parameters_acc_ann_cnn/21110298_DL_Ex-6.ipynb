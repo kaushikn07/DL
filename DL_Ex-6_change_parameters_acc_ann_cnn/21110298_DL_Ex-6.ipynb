{
 "cells": [
  {
   "cell_type": "code",
   "execution_count": 11,
   "id": "475f63e9",
   "metadata": {},
   "outputs": [],
   "source": [
    "# importing necessary modules\n",
    "import tensorflow as tf\n",
    "from tensorflow.keras.datasets import mnist\n",
    "from tensorflow.keras.models import Sequential\n",
    "from tensorflow.keras.layers import Dense, Flatten, Conv2D, MaxPooling2D\n",
    "from tensorflow.keras.utils import to_categorical\n"
   ]
  },
  {
   "cell_type": "code",
   "execution_count": 12,
   "id": "525a7bf2",
   "metadata": {},
   "outputs": [],
   "source": [
    "# Load and preprocess the MNIST dataset\n",
    "(train_images, train_labels), (test_images, test_labels) = mnist.load_data()\n",
    "train_images = train_images.reshape((60000, 28, 28, 1)).astype('float32') / 255\n",
    "test_images = test_images.reshape((10000, 28, 28, 1)).astype('float32') / 255\n",
    "train_labels = to_categorical(train_labels)\n",
    "test_labels = to_categorical(test_labels)\n"
   ]
  },
  {
   "cell_type": "code",
   "execution_count": 13,
   "id": "dafc4741",
   "metadata": {},
   "outputs": [
    {
     "name": "stdout",
     "output_type": "stream",
     "text": [
      "Epoch 1/10\n",
      "938/938 [==============================] - 3s 2ms/step - loss: 0.2783 - accuracy: 0.9195 - val_loss: 0.1378 - val_accuracy: 0.9579\n",
      "Epoch 2/10\n",
      "938/938 [==============================] - 2s 2ms/step - loss: 0.1151 - accuracy: 0.9656 - val_loss: 0.1019 - val_accuracy: 0.9683\n",
      "Epoch 3/10\n",
      "938/938 [==============================] - 2s 2ms/step - loss: 0.0805 - accuracy: 0.9753 - val_loss: 0.0892 - val_accuracy: 0.9723\n",
      "Epoch 4/10\n",
      "938/938 [==============================] - 2s 2ms/step - loss: 0.0614 - accuracy: 0.9810 - val_loss: 0.0890 - val_accuracy: 0.9727\n",
      "Epoch 5/10\n",
      "938/938 [==============================] - 2s 2ms/step - loss: 0.0475 - accuracy: 0.9852 - val_loss: 0.0778 - val_accuracy: 0.9765\n",
      "Epoch 6/10\n",
      "938/938 [==============================] - 2s 2ms/step - loss: 0.0360 - accuracy: 0.9886 - val_loss: 0.0859 - val_accuracy: 0.9745\n",
      "Epoch 7/10\n",
      "938/938 [==============================] - 2s 2ms/step - loss: 0.0294 - accuracy: 0.9907 - val_loss: 0.0845 - val_accuracy: 0.9772\n",
      "Epoch 8/10\n",
      "938/938 [==============================] - 2s 2ms/step - loss: 0.0246 - accuracy: 0.9916 - val_loss: 0.0761 - val_accuracy: 0.9786\n",
      "Epoch 9/10\n",
      "938/938 [==============================] - 2s 2ms/step - loss: 0.0219 - accuracy: 0.9925 - val_loss: 0.0877 - val_accuracy: 0.9753\n",
      "Epoch 10/10\n",
      "938/938 [==============================] - 2s 2ms/step - loss: 0.0170 - accuracy: 0.9947 - val_loss: 0.0853 - val_accuracy: 0.9777\n"
     ]
    }
   ],
   "source": [
    "# Build and train an Artificial Neural Network (ANN)\n",
    "ann_model = Sequential([\n",
    "    Flatten(input_shape=(28, 28, 1)),\n",
    "    Dense(128, activation='relu'),\n",
    "    Dense(64, activation='relu'),\n",
    "    Dense(10, activation='softmax')\n",
    "])\n",
    "\n",
    "ann_model.compile(optimizer='adam', loss='categorical_crossentropy', metrics=['accuracy'])\n",
    "ann_history = ann_model.fit(train_images, train_labels, epochs=10, batch_size=64, validation_data=(test_images, test_labels))\n"
   ]
  },
  {
   "cell_type": "code",
   "execution_count": 14,
   "id": "12fb7517",
   "metadata": {},
   "outputs": [
    {
     "name": "stdout",
     "output_type": "stream",
     "text": [
      "Epoch 1/10\n",
      "938/938 [==============================] - 13s 13ms/step - loss: 0.1805 - accuracy: 0.9455 - val_loss: 0.0668 - val_accuracy: 0.9799\n",
      "Epoch 2/10\n",
      "938/938 [==============================] - 12s 13ms/step - loss: 0.0555 - accuracy: 0.9831 - val_loss: 0.0464 - val_accuracy: 0.9852\n",
      "Epoch 3/10\n",
      "938/938 [==============================] - 12s 13ms/step - loss: 0.0361 - accuracy: 0.9885 - val_loss: 0.0491 - val_accuracy: 0.9853\n",
      "Epoch 4/10\n",
      "938/938 [==============================] - 13s 14ms/step - loss: 0.0243 - accuracy: 0.9921 - val_loss: 0.0411 - val_accuracy: 0.9868\n",
      "Epoch 5/10\n",
      "938/938 [==============================] - 13s 13ms/step - loss: 0.0176 - accuracy: 0.9945 - val_loss: 0.0505 - val_accuracy: 0.9848\n",
      "Epoch 6/10\n",
      "938/938 [==============================] - 14s 14ms/step - loss: 0.0134 - accuracy: 0.9955 - val_loss: 0.0487 - val_accuracy: 0.9857\n",
      "Epoch 7/10\n",
      "938/938 [==============================] - 14s 15ms/step - loss: 0.0100 - accuracy: 0.9968 - val_loss: 0.0551 - val_accuracy: 0.9859\n",
      "Epoch 8/10\n",
      "938/938 [==============================] - 14s 15ms/step - loss: 0.0079 - accuracy: 0.9974 - val_loss: 0.0614 - val_accuracy: 0.9842\n",
      "Epoch 9/10\n",
      "938/938 [==============================] - 14s 15ms/step - loss: 0.0076 - accuracy: 0.9975 - val_loss: 0.0537 - val_accuracy: 0.9860\n",
      "Epoch 10/10\n",
      "938/938 [==============================] - 15s 16ms/step - loss: 0.0072 - accuracy: 0.9976 - val_loss: 0.0533 - val_accuracy: 0.9874\n"
     ]
    }
   ],
   "source": [
    "# Build and train a Convolutional Neural Network (CNN) \n",
    "cnn_model = Sequential([\n",
    "    Conv2D(32, (3, 3), activation='relu', input_shape=(28, 28, 1)),\n",
    "    MaxPooling2D((2, 2)),\n",
    "    Flatten(),\n",
    "    Dense(128, activation='relu'),\n",
    "    Dense(64, activation='relu'),\n",
    "    Dense(10, activation='softmax')\n",
    "])\n",
    "\n",
    "cnn_model.compile(optimizer='adam', loss='categorical_crossentropy', metrics=['accuracy'])\n",
    "cnn_history = cnn_model.fit(train_images, train_labels, epochs=10, batch_size=64, validation_data=(test_images, test_labels))\n"
   ]
  },
  {
   "cell_type": "code",
   "execution_count": 15,
   "id": "9018311f",
   "metadata": {},
   "outputs": [],
   "source": [
    "\n",
    "ann_accuracy = ann_model.evaluate(test_images, test_labels, verbose=0)\n",
    "cnn_accuracy = cnn_model.evaluate(test_images, test_labels, verbose=0)\n",
    "cnn_parameters = cnn_model.count_params()\n",
    "ann_parameters = ann_model.count_params()\n"
   ]
  },
  {
   "cell_type": "code",
   "execution_count": 16,
   "id": "cc48a028",
   "metadata": {},
   "outputs": [
    {
     "name": "stdout",
     "output_type": "stream",
     "text": [
      "ANN Test Accuracy: 97.76999950408936\n",
      "ANN Parameters: 109386\n",
      "CNN Test Accuracy: 98.73999953269958\n",
      "CNN Parameters: 701578\n"
     ]
    }
   ],
   "source": [
    "# Print accuracy and parameters for both ANN and CNN\n",
    "\n",
    "print(\"ANN Test Accuracy:\", ann_accuracy[1] * 100)\n",
    "print(\"ANN Parameters:\", ann_parameters)\n",
    "\n",
    "print(\"CNN Test Accuracy:\", cnn_accuracy[1] * 100)\n",
    "print(\"CNN Parameters:\", cnn_parameters)"
   ]
  },
  {
   "cell_type": "code",
   "execution_count": null,
   "id": "98edcbd7",
   "metadata": {},
   "outputs": [],
   "source": []
  }
 ],
 "metadata": {
  "kernelspec": {
   "display_name": "Python 3 (ipykernel)",
   "language": "python",
   "name": "python3"
  },
  "language_info": {
   "codemirror_mode": {
    "name": "ipython",
    "version": 3
   },
   "file_extension": ".py",
   "mimetype": "text/x-python",
   "name": "python",
   "nbconvert_exporter": "python",
   "pygments_lexer": "ipython3",
   "version": "3.11.3"
  }
 },
 "nbformat": 4,
 "nbformat_minor": 5
}
